{
 "cells": [
  {
   "cell_type": "markdown",
   "id": "b2dffe99-cf3d-40a2-a42b-d8bccaf63371",
   "metadata": {
    "tags": []
   },
   "source": [
    "# А/В тест для групп 1 и 2 "
   ]
  },
  {
   "cell_type": "markdown",
   "id": "0f2299cf-8099-4125-b92c-3820def26065",
   "metadata": {},
   "source": [
    "Даты проведения эксперимента **18.11.2023 - 24.11.2023** \\\n",
    "Новый алгоритм: пользователю показывают посты, которые похожи на те, которые он лайкал \\\n",
    "<br>\n",
    "**Группа 1** - контрольная группа; \\\n",
    "**Группа 2** - группа, в которой был использован новый алгоритм рекомендации постов. \\\n",
    "<br>\n",
    "Основная гипотеза: новый алгоритм во 2-й группе к увеличению CTR"
   ]
  },
  {
   "cell_type": "code",
   "execution_count": 1,
   "id": "2ac859b0-8d1f-4f36-86c5-e706581996bc",
   "metadata": {},
   "outputs": [],
   "source": [
    "import pandas as pd\n",
    "import pandahouse as ph\n",
    "import numpy as np\n",
    "import scipy.stats as stats\n",
    "import seaborn as sns\n",
    "import matplotlib.pyplot as plt\n",
    "import hashlib"
   ]
  },
  {
   "cell_type": "markdown",
   "id": "464dcc82-ed4b-4765-8da6-7c835c3300d5",
   "metadata": {
    "tags": []
   },
   "source": [
    "## Загрузка данных из Clickhouse и их предварительная обработка"
   ]
  },
  {
   "cell_type": "code",
   "execution_count": 2,
   "id": "72c1c1f5-bd33-47dd-bc77-90f9c660f69e",
   "metadata": {},
   "outputs": [],
   "source": [
    "connection = {\n",
    "    'host': 'https://clickhouse.lab.karpov.courses',\n",
    "    'password': 'dpo_python_2020',\n",
    "    'user': 'student',\n",
    "    'database': 'simulator_20231220'\n",
    "}"
   ]
  },
  {
   "cell_type": "code",
   "execution_count": 3,
   "id": "c70cd70e-065e-45f1-8d63-b85eda8369d2",
   "metadata": {},
   "outputs": [],
   "source": [
    "q = \"\"\"\n",
    "SELECT exp_group, \n",
    "    user_id,\n",
    "    sum(action = 'like') as likes,\n",
    "    sum(action = 'view') as views,\n",
    "    likes/views as ctr\n",
    "FROM {db}.feed_actions \n",
    "WHERE toDate(time) between '2023-11-18' and '2023-11-24'\n",
    "    and exp_group in (1,2)\n",
    "GROUP BY exp_group, user_id\n",
    "\"\"\"\n",
    "\n",
    "df = ph.read_clickhouse(q, connection=connection)"
   ]
  },
  {
   "cell_type": "code",
   "execution_count": 4,
   "id": "b3d4db70-9de3-4ac7-9941-58bfd6d70465",
   "metadata": {},
   "outputs": [
    {
     "data": {
      "text/plain": [
       "exp_group\n",
       "1    10020\n",
       "2     9877\n",
       "Name: user_id, dtype: int64"
      ]
     },
     "execution_count": 4,
     "metadata": {},
     "output_type": "execute_result"
    }
   ],
   "source": [
    "# Количство пользователей в каждой группе\n",
    "df.groupby('exp_group')['user_id'].count()"
   ]
  },
  {
   "cell_type": "markdown",
   "id": "d3701703-eb2e-4977-8651-7690e2f993d5",
   "metadata": {},
   "source": [
    "## Проведение А/В теста"
   ]
  },
  {
   "cell_type": "markdown",
   "id": "e68408c0-8716-4db9-a0d3-bbcd56e65e48",
   "metadata": {},
   "source": [
    "**H0:** Значения ctr в двух группах не имеют статистически значимых различий \\\n",
    "**H1:** Значения ctr в двух группах имеют различия \\"
   ]
  },
  {
   "cell_type": "markdown",
   "id": "bbe3ce85-2aeb-4810-bc90-c209018278a0",
   "metadata": {},
   "source": [
    "**t-test**"
   ]
  },
  {
   "cell_type": "code",
   "execution_count": 5,
   "id": "1301ccea-9249-4b0f-807e-eba9a6da113f",
   "metadata": {},
   "outputs": [
    {
     "data": {
      "text/plain": [
       "Ttest_indResult(statistic=0.4051491913112757, pvalue=0.685373331140751)"
      ]
     },
     "execution_count": 5,
     "metadata": {},
     "output_type": "execute_result"
    }
   ],
   "source": [
    "stats.ttest_ind(df[df.exp_group==1].ctr,\n",
    "               df[df.exp_group==2].ctr,\n",
    "               equal_var=False)"
   ]
  },
  {
   "cell_type": "markdown",
   "id": "67ce5ffa-7c1e-461a-bb4c-3c27cd18b67b",
   "metadata": {},
   "source": [
    "**Тест Манна-Уитни**"
   ]
  },
  {
   "cell_type": "code",
   "execution_count": 6,
   "id": "c4d5fe0b-c1e2-4fe7-a353-21198f2efb3c",
   "metadata": {},
   "outputs": [
    {
     "data": {
      "text/plain": [
       "MannwhitneyuResult(statistic=55189913.0, pvalue=4.632205841806026e-45)"
      ]
     },
     "execution_count": 6,
     "metadata": {},
     "output_type": "execute_result"
    }
   ],
   "source": [
    "stats.mannwhitneyu(df[df.exp_group == 1].ctr, \n",
    "                   df[df.exp_group == 2].ctr,\n",
    "                   alternative = 'two-sided')"
   ]
  },
  {
   "cell_type": "markdown",
   "id": "25647879-9407-4a95-adb7-837df691a666",
   "metadata": {},
   "source": [
    "**Пуассоновский бутстреп**"
   ]
  },
  {
   "cell_type": "code",
   "execution_count": 7,
   "id": "96972ad6-c094-45fa-a157-6fee0c337704",
   "metadata": {},
   "outputs": [],
   "source": [
    "def bootstrap(likes1, views1, likes2, views2, n_bootstrap=2000):\n",
    "\n",
    "    # генерация случайных чисел из распределения Пуассона с размерностью количества пользователей в групп (кол-во генераций 2000)\n",
    "    # эти случаный числа - веса каждого пользовател, т.е. сколько раз каждый пользователь попал в псевдовыборку\n",
    "    poisson_bootstraps1 = stats.poisson(1).rvs(\n",
    "        (n_bootstrap, len(likes1))).astype(np.int64)\n",
    "    poisson_bootstraps2 = stats.poisson(1).rvs(\n",
    "            (n_bootstrap, len(likes2))).astype(np.int64)\n",
    "    \n",
    "    # список глобальных ctr по псевдовыборке, для каждой группы таких псевдовыборок 2000\n",
    "    globalCTR1 = (poisson_bootstraps1*likes1).sum(axis=1)/(poisson_bootstraps1*views1).sum(axis=1)\n",
    "    globalCTR2 = (poisson_bootstraps2*likes2).sum(axis=1)/(poisson_bootstraps2*views2).sum(axis=1)\n",
    "\n",
    "    return globalCTR1, globalCTR2"
   ]
  },
  {
   "cell_type": "code",
   "execution_count": 8,
   "id": "862fdf8b-e952-4ad4-9c0a-6c29e2f91f01",
   "metadata": {},
   "outputs": [],
   "source": [
    "likes1 = df[df.exp_group == 1].likes.to_numpy()\n",
    "views1 = df[df.exp_group == 1].views.to_numpy()\n",
    "likes2 = df[df.exp_group == 2].likes.to_numpy()\n",
    "views2 = df[df.exp_group == 2].views.to_numpy()\n",
    "\n",
    "ctr1, ctr2 = bootstrap(likes1, views1, likes2, views2)"
   ]
  },
  {
   "cell_type": "code",
   "execution_count": 9,
   "id": "d1985f12-3573-45a0-9881-2a256b689563",
   "metadata": {},
   "outputs": [
    {
     "data": {
      "image/png": "[encoded data removed]",
      "text/plain": [
       "<Figure size 432x288 with 1 Axes>"
      ]
     },
     "metadata": {
      "needs_background": "light"
     },
     "output_type": "display_data"
    }
   ],
   "source": [
    "# Построение графиков распределения глобальных ctr 1 и 2 групп\n",
    "sns.set(rc={'figure.figsize':(12,7)})\n",
    "\n",
    "ctr1_graph = sns.histplot(ctr1,  alpha=0.5, color='blue')\n",
    "ctr2_graph = sns.histplot(ctr2, alpha=0.5, color='red')\n",
    "\n",
    "plt.legend(['CTR1','CTR2'])\n",
    "plt.show()"
   ]
  },
  {
   "cell_type": "code",
   "execution_count": 10,
   "id": "e655b764-c1c2-45de-b7f5-493f2e9a1c3e",
   "metadata": {},
   "outputs": [
    {
     "data": {
      "text/plain": [
       "<Axes: ylabel='Count'>"
      ]
     },
     "execution_count": 10,
     "metadata": {},
     "output_type": "execute_result"
    },
    {
     "data": {
      "image/png": "[encoded data removed]",
      "text/plain": [
       "<Figure size 432x288 with 1 Axes>"
      ]
     },
     "metadata": {
      "needs_background": "light"
     },
     "output_type": "display_data"
    }
   ],
   "source": [
    "# Разница между глобальными CTR 2 и 1 группы\n",
    "sns.histplot(ctr2 - ctr1)"
   ]
  },
  {
   "cell_type": "markdown",
   "id": "9f1d5ba7-ab99-4511-8746-cba8fc984873",
   "metadata": {},
   "source": [
    "**Тест Манна-Уитни поверх бакетного преобразования**"
   ]
  },
  {
   "cell_type": "code",
   "execution_count": 11,
   "id": "321f8d40-32a6-4611-9bd0-106ece6c2559",
   "metadata": {},
   "outputs": [],
   "source": [
    "# Функция присваивания хэша пользователю (количество бакетов 50, где в каждом будет примерно 200 пользователей)\n",
    "def bucket(id, salt='exp_mess_1', n_groups=50):\n",
    "    test_id = str(id) + '-' + str(salt)\n",
    "    test_id_digest = hashlib.md5(test_id.encode('ascii')).hexdigest()\n",
    "    test_id_final_int = int(test_id_digest, 16)\n",
    "    return test_id_final_int % n_groups"
   ]
  },
  {
   "cell_type": "code",
   "execution_count": 12,
   "id": "ff643b73-4a8f-45d3-81d9-f7965da57904",
   "metadata": {},
   "outputs": [],
   "source": [
    "# Создание датафреймов по группам\n",
    "df_1 = df[df.exp_group == 1].reset_index(drop=True)\n",
    "df_2 = df[df.exp_group == 2].reset_index(drop=True)"
   ]
  },
  {
   "cell_type": "code",
   "execution_count": 13,
   "id": "7884f451-673c-4ed8-9512-caa5f8fbcfb6",
   "metadata": {},
   "outputs": [],
   "source": [
    "# Функция создания колонки с номером бакета\n",
    "def num_bucket(df):\n",
    "    num_bucket=[]\n",
    "    for i in df.user_id:\n",
    "        num_bucket.append(bucket(i))\n",
    "    df['bucket']=num_bucket\n",
    "    return df"
   ]
  },
  {
   "cell_type": "code",
   "execution_count": 14,
   "id": "87776ade-9b73-4014-81b3-5c8251ff5036",
   "metadata": {},
   "outputs": [],
   "source": [
    "df_1_bucket = num_bucket(df_1)\n",
    "df_2_bucket = num_bucket(df_2)"
   ]
  },
  {
   "cell_type": "code",
   "execution_count": 15,
   "id": "48f1b4c9-39b4-44c5-a83f-13949e402078",
   "metadata": {},
   "outputs": [],
   "source": [
    "# Расчет ctr для каждого бакета в каждой группе\n",
    "bucket_1=df_1_bucket.groupby('bucket', as_index=False).agg({'likes':'sum', 'views':'sum'})\n",
    "bucket_1['ctr']=bucket_1['likes']/bucket_1['views']\n",
    "\n",
    "bucket_2=df_2_bucket.groupby('bucket', as_index=False).agg({'likes':'sum', 'views':'sum'})\n",
    "bucket_2['ctr']=bucket_2['likes']/bucket_2['views']"
   ]
  },
  {
   "cell_type": "code",
   "execution_count": 16,
   "id": "95840bd1-3672-4e46-8686-02fe6567a9a6",
   "metadata": {},
   "outputs": [
    {
     "data": {
      "text/plain": [
       "<Axes: xlabel='ctr', ylabel='Count'>"
      ]
     },
     "execution_count": 16,
     "metadata": {},
     "output_type": "execute_result"
    },
    {
     "data": {
      "image/png": "[encoded data removed]",
      "text/plain": [
       "<Figure size 432x288 with 1 Axes>"
      ]
     },
     "metadata": {
      "needs_background": "light"
     },
     "output_type": "display_data"
    }
   ],
   "source": [
    "# График разности ctr 2 и 1 группы\n",
    "sns.histplot(bucket_2.ctr-bucket_1.ctr)"
   ]
  },
  {
   "cell_type": "code",
   "execution_count": 17,
   "id": "eecc50a4-7a19-4855-9baf-151ef2779d5f",
   "metadata": {},
   "outputs": [
    {
     "data": {
      "text/plain": [
       "MannwhitneyuResult(statistic=1923.0, pvalue=3.5505478185193758e-06)"
      ]
     },
     "execution_count": 17,
     "metadata": {},
     "output_type": "execute_result"
    }
   ],
   "source": [
    "stats.mannwhitneyu(bucket_1.ctr, \n",
    "                   bucket_2.ctr,\n",
    "                   alternative = 'two-sided')"
   ]
  },
  {
   "cell_type": "markdown",
   "id": "4c89d727-d90e-4b75-8711-b8eb54e1d989",
   "metadata": {},
   "source": [
    "**Распределение ctr для контрольной и экспериментальной группы**"
   ]
  },
  {
   "cell_type": "code",
   "execution_count": 18,
   "id": "403e64a1-127d-42a4-b0d9-7043de8f23ff",
   "metadata": {},
   "outputs": [
    {
     "data": {
      "image/png": "[encoded data removed]",
      "text/plain": [
       "<Figure size 864x504 with 1 Axes>"
      ]
     },
     "metadata": {},
     "output_type": "display_data"
    }
   ],
   "source": [
    "sns.set(rc={'figure.figsize':(12,7)})\n",
    "groups = sns.histplot(data = df, \n",
    "              x='ctr', \n",
    "              hue='exp_group', \n",
    "              palette = ['b', 'r'],\n",
    "              alpha=0.5,\n",
    "              kde=False)"
   ]
  },
  {
   "cell_type": "markdown",
   "id": "560ae535-5998-41db-8445-eff5da1678f1",
   "metadata": {},
   "source": [
    "## Анализ результатов"
   ]
  },
  {
   "cell_type": "markdown",
   "id": "d7547ae3-fede-425c-adb8-5b4030cbba07",
   "metadata": {},
   "source": [
    "В качестве методов анализа были рассмотрены t-test, тест Манна-Уитни, Пуассоновский бутстреп и тест Манна-Уитни поверх бакетного преобразования. \\\n",
    "<br>\n",
    "Т-test и тест Манна-Уитни дали совершенно разные результаты, в первом случае p-value=0.685 (нет статистичекски значимых отличий), а во втором p-value=4.63е-45 (есть статистически значимые различия). \\\n",
    "<br>\n",
    "Пуассоновский бутстреп также показал, что различия являются статистически значимыми, т.к. по графику значения глобальных ctr для первой группы и для второй не пересекаются. Более того значения глобального ctr второй группы оказались меньше чем для первой, тоже самое подтверждает график их разницы (ctr2-ctr1), который имеет отрицательные значения и не пересекается с 0. \\\n",
    "<br>\n",
    "Аналогичные выводы можно сделать по тесту Манна-Уитни поверх бакетного преобразования, где p-value=3.55е-06, что говорит о статистически значимых отличиях в контрольной и экспериментальной группах, а разница бакетных ctr 2 и 1 группы на гистограмме смещена влево относительно 0 и говорит о том, что в большинстве случаев показатель ctr уменьшился. \\\n",
    "<br>\n",
    "Посмотрев на распределение ctr для контрольной и экспериментальной группы, можно объяснить, почему t-test показал, что статистически значимых отличий нет, а остальные тесты показали статистически значимые отличия. Если посмотреть на распределение ctr 1 группы, то оно около нормальное и его среднее примерно находится тамже, где и вершина распределения. А вот распределение ctr 2 группы бимодальное, левая вершина значительно выше правой, но при этом справа график имеет большой размах, соответственно среднее значение такого распределения будет находится примерно тамже, где и у распределения ctr 1 группы. А т.к. t-test сравнивает средние значения, то он и не показал статистически значимых различий, если бы мы приняли результаты этого теста на веру, то могла произойти ошибка второго рода. \\\n",
    "<br>\n",
    "В этом плане тест Манна-Уитни оказался более надежным, он выявил статичтически значимые различия, но непонятно какой характер у этих отличий, в лучшую или худшую сторону. \\\n",
    "<br>\n",
    "В сравнении ctr этих двух групп лучше всего справились Пуассоновский бутстреп и тест Манна-Уитни поверх бакетного преобразования. Т.к. пуассоновский бутстреп не требователен к распределению, что оказалось важным в этом эксперименте. А плотность распределения ctr при бакетном преобразовании сводится к нормальному виду, что дает более достоверные результаты при проведении теста Манна-Уитни, т.к. в исходных данных у показателей ctr второй группы был большой размах и 2 моды."
   ]
  },
  {
   "cell_type": "markdown",
   "id": "d50db2f8-d7ef-40b2-be54-9d177fd4a323",
   "metadata": {},
   "source": [
    "## Возможные причины изменений"
   ]
  },
  {
   "cell_type": "markdown",
   "id": "db137d90-fbe9-4320-8fd2-8581f2b5cdd9",
   "metadata": {},
   "source": [
    "Первая причина, почему могли произойти такие изменения. Люди, у которых изначально ctr был больше среднего, возможно в принципе чаще лайкают понравившиеся посты, т.е. если им понравился пост, то с большой долей вероятности они его лайкнут. Если им дать потенциально интересные посты, то они их тоже будут лайкать и ctr увеличится. А есть люди, которые просто смотрят и не лайкают, даже если им пост понравится, или лайкают их очень редко. Соответственно, если им дать интересные посты, то просмотров будет много, больше чем при неперсонализированной подборке постов, а лайков будет по-прежнему мало. \\\n",
    "Вторая возможная причина. Некторым людям может надоесть похожий контент на то, что они уже видели и лайкали, поэтому и ctr уменьшится. А некоторым людям такая подборка продолжает нравится и они продолжают лайкать, что приводит к увеличению ctr."
   ]
  },
  {
   "cell_type": "markdown",
   "id": "3845004a-a2db-459b-855c-a6b0f2fc0f83",
   "metadata": {},
   "source": [
    "## Выводы и рекомендации"
   ]
  },
  {
   "cell_type": "markdown",
   "id": "a11511cd-af0d-4789-82ad-9cf96a074f80",
   "metadata": {},
   "source": [
    "В данном А/В тесте самым эффективным методом оказался Пуассоновский бутстреп, поэтому вывод будет основан на его результатах.\n",
    "По графику сравнения глобыльных ctr для 1 и 2 группы видно, что пересечения распределений нет, а значит различия между двумя группами можно считать статистически значимыми, в этом случае отклоняем нулевую гипотезу. Но сравнение глобальных ctr в виде их разности (ctr2-ctr1) показало, что разница отрицательная (нет пересечений с 0 и все значения отрицательные на графике), т.е. ctr экспериментальной группы меньше ctr контрольной группы. Нужно было проверить приведет ли новый алгоритм во 2-ой группе к увелечению ctr. По результатам теста эта гипотеза не подтверждается, новый алгоритм наоборот привел к снижению ctr. \\\n",
    "Не рекомендую раскатывать новый алгоритм на всех новых пользователей."
   ]
  }
 ],
 "metadata": {
  "kernelspec": {
   "display_name": "Python 3 (ipykernel)",
   "language": "python",
   "name": "python3"
  },
  "language_info": {
   "codemirror_mode": {
    "name": "ipython",
    "version": 3
   },
   "file_extension": ".py",
   "mimetype": "text/x-python",
   "name": "python",
   "nbconvert_exporter": "python",
   "pygments_lexer": "ipython3",
   "version": "3.8.10"
  },
  "toc-showtags": false
 },
 "nbformat": 4,
 "nbformat_minor": 5
}

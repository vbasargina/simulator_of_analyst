{
 "cells": [
  {
   "cell_type": "markdown",
   "id": "341af724-c070-43a4-ba30-78521771a9ab",
   "metadata": {},
   "source": [
    "# Проверка корректной работы системы сплитования"
   ]
  },
  {
   "cell_type": "markdown",
   "id": "55c08b23-0341-4083-b3ce-a0f9e4eeb5ab",
   "metadata": {},
   "source": [
    " А/А-тест проводился с 11.11.2023 по 17.11.2023"
   ]
  },
  {
   "cell_type": "code",
   "execution_count": 1,
   "id": "1c469ab6-ca02-40ab-a2f0-ffd25a868608",
   "metadata": {},
   "outputs": [],
   "source": [
    "import pandas as pd\n",
    "import pandahouse as ph\n",
    "import scipy.stats as stats\n",
    "import seaborn as sns\n",
    "import matplotlib.pyplot as plt"
   ]
  },
  {
   "cell_type": "markdown",
   "id": "7add5ed1-d0eb-4cf5-9ffb-233c3ce8f845",
   "metadata": {},
   "source": [
    "#### Загрузка данных из Clickhouse и их предварительная обработка"
   ]
  },
  {
   "cell_type": "code",
   "execution_count": 2,
   "id": "fd9485fa-67f8-47b6-8b8a-d17363fe04ae",
   "metadata": {},
   "outputs": [],
   "source": [
    "connection = {\n",
    "    'host': 'https://clickhouse.lab.karpov.courses',\n",
    "    'password': 'dpo_python_2020',\n",
    "    'user': 'student',\n",
    "    'database': 'simulator_20231220'\n",
    "}"
   ]
  },
  {
   "cell_type": "code",
   "execution_count": 3,
   "id": "a0a60d39-4258-4831-a1c6-608341314009",
   "metadata": {},
   "outputs": [],
   "source": [
    "# Запрос, который отбирает информацию о лайках и просмотрах по пользователям, \n",
    "# которые состоят в0 2 и 3 группах, до введения нового алгоритма\n",
    "q = \"\"\"\n",
    "SELECT exp_group, \n",
    "    user_id,\n",
    "    sum(action = 'like') as likes,\n",
    "    sum(action = 'view') as views,\n",
    "    likes/views as ctr\n",
    "FROM {db}.feed_actions \n",
    "WHERE toDate(time) between '2023-11-11' and '2023-11-17'\n",
    "    and exp_group in (2,3)\n",
    "GROUP BY exp_group, user_id\n",
    "\"\"\"\n",
    "\n",
    "df = ph.read_clickhouse(q, connection=connection)"
   ]
  },
  {
   "cell_type": "code",
   "execution_count": 4,
   "id": "0ad49487-67ef-49fd-9ff8-d95563d9a73d",
   "metadata": {},
   "outputs": [
    {
     "data": {
      "text/plain": [
       "exp_group\n",
       "2    8362\n",
       "3    8425\n",
       "Name: user_id, dtype: int64"
      ]
     },
     "execution_count": 4,
     "metadata": {},
     "output_type": "execute_result"
    }
   ],
   "source": [
    "# Количство пользователей в каждой группе\n",
    "df.groupby('exp_group')['user_id'].count()"
   ]
  },
  {
   "cell_type": "code",
   "execution_count": 5,
   "id": "e149be34-c162-4eba-88b7-4b2dd68a1db4",
   "metadata": {},
   "outputs": [],
   "source": [
    "# Разделение пользователей на два датафрема в зависимости от группы\n",
    "df_2=df.query('exp_group==2')\n",
    "df_3=df.query('exp_group==3')"
   ]
  },
  {
   "cell_type": "markdown",
   "id": "d2d9a0f8-411c-4ac2-bf35-42a3213b797c",
   "metadata": {},
   "source": [
    "#### Симуляция проведения 10000 A/A-тестов"
   ]
  },
  {
   "cell_type": "code",
   "execution_count": 6,
   "id": "e8a555b8-7909-44eb-b791-c204a9b6ce6e",
   "metadata": {},
   "outputs": [],
   "source": [
    "pvalue = [] # список p-value\n",
    "\n",
    "# цикл из 1000 итераций\n",
    "for n in range(10000):\n",
    "    \n",
    "    # генерация подвыборки из случайных 500 юзеров без поторений для группы 2\n",
    "    user_sample_2=df_2.user_id.sample(500, replace=False).tolist()\n",
    "    sub_sample_2 = df_2[df_2['user_id'].isin(user_sample_2)]\n",
    "    \n",
    "    # и для группы 3\n",
    "    user_sample_3=df_3.user_id.sample(500, replace=False).tolist()\n",
    "    sub_sample_3 = df_3[df_3['user_id'].isin(user_sample_3)]\n",
    "    \n",
    "    # сравнение ctr подвыборок с помощью t-теста\n",
    "    t_test = stats.ttest_ind(sub_sample_2.ctr,\n",
    "                sub_sample_3.ctr,\n",
    "                equal_var=False)\n",
    "    \n",
    "    # запись полученного p-value в список\n",
    "    pvalue.append(t_test[1])"
   ]
  },
  {
   "cell_type": "markdown",
   "id": "299a395f-9e27-4170-b7db-075b654929ca",
   "metadata": {},
   "source": [
    "#### Представление результатов"
   ]
  },
  {
   "cell_type": "code",
   "execution_count": 7,
   "id": "ad2e79d0-638d-482d-bebc-f8ceafacc344",
   "metadata": {},
   "outputs": [
    {
     "data": {
      "text/plain": [
       "Text(0.5, 0, 'p-value')"
      ]
     },
     "execution_count": 7,
     "metadata": {},
     "output_type": "execute_result"
    },
    {
     "data": {
      "image/png": "[encoded data removed]",
      "text/plain": [
       "<Figure size 432x288 with 1 Axes>"
      ]
     },
     "metadata": {
      "needs_background": "light"
     },
     "output_type": "display_data"
    }
   ],
   "source": [
    "# Построение гистограммы распределения получившихся 10000 p-values\n",
    "sns.set(rc={'figure.figsize':(12,7)}) # размер графического окна\n",
    "\n",
    "groups = sns.histplot(pvalue,\n",
    "              alpha=0.5,\n",
    "              kde=False, bins=20)\n",
    "\n",
    "groups.axvline(x=0.05, color='r', linewidth=2) # линия разделения в точке p-value = 0.05 \n",
    "\n",
    "plt.xlabel(\"p-value\")"
   ]
  },
  {
   "cell_type": "code",
   "execution_count": 8,
   "id": "93a78684-a84d-43e6-8f5d-e5dd25357968",
   "metadata": {},
   "outputs": [
    {
     "name": "stdout",
     "output_type": "stream",
     "text": [
      "Процент p values, оказавшийся <= 0.05:  5.04 %\n"
     ]
    }
   ],
   "source": [
    "print('Процент p values, оказавшийся <= 0.05: ', round((len([i for i in pvalue if i<=0.05])/len(pvalue))*100, 2),'%')"
   ]
  },
  {
   "cell_type": "markdown",
   "id": "037c47ff-c313-45a8-a361-2b8bb61e1aa2",
   "metadata": {},
   "source": [
    "#### Вывод"
   ]
  },
  {
   "cell_type": "markdown",
   "id": "c2499efa-7cfd-4fce-ba72-50efac195413",
   "metadata": {},
   "source": [
    "В менее чем 5%, а именно в 4,91% случаях получились статистически значимые различия в группах 2 и 3. Также это видно по гистограмме, где различные p-value распределеные почти равномерно и p-value<=0.05 составляет меньше 1/20 части всех p-value (p-value на гистограмме распределено +- равномерно). Из этого можно сделать вывод, что система сплитования работает корректно."
   ]
  }
 ],
 "metadata": {
  "kernelspec": {
   "display_name": "Python 3 (ipykernel)",
   "language": "python",
   "name": "python3"
  },
  "language_info": {
   "codemirror_mode": {
    "name": "ipython",
    "version": 3
   },
   "file_extension": ".py",
   "mimetype": "text/x-python",
   "name": "python",
   "nbconvert_exporter": "python",
   "pygments_lexer": "ipython3",
   "version": "3.8.10"
  }
 },
 "nbformat": 4,
 "nbformat_minor": 5
}
